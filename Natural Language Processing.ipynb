{
 "cells": [
  {
   "cell_type": "code",
   "execution_count": 44,
   "metadata": {},
   "outputs": [],
   "source": [
    "#Natural Language Processing (NLP)\n",
    "#Natural Language Processing is applying Machine Learning models to text and language.\n",
    "#Teaching machines to understand what is said in spoken and written word is the focus of Natural Language Processing. \n",
    "#Whenever we dictate something into our device that is then converted to text, that’s an NLP algorithm in action.\n"
   ]
  },
  {
   "cell_type": "code",
   "execution_count": 45,
   "metadata": {},
   "outputs": [],
   "source": [
    "#We can also use NLP on a text review to predict if the review is a good one or a bad one. \n",
    "#NLP can be used on an article to predict some categories of the articles we are trying to segment. \n",
    "#We can use NLP on a book to predict the genre of the book. And it can go further, we can use NLP to build a machine \n",
    "#translator or a speech recognition system, and in that last example we use classification algorithms to classify language. \n",
    "#Speaking of classification algorithms, most of NLP algorithms are classification models, and they include \n",
    "#Logistic Regression, Naive Bayes, CART which is a model based on decision trees, Maximum Entropy again related \n",
    "#to Decision Trees,Hidden Markov Models which are models based on Markov processes.\n",
    "\n",
    "#A very well-known model in NLP is the 'BAG OF WORDS MODEL'. It is a model used to preprocess the texts\n",
    "#to classify before fitting the classification algorithms on the observations containing the texts.\n"
   ]
  },
  {
   "cell_type": "code",
   "execution_count": 46,
   "metadata": {},
   "outputs": [],
   "source": [
    "#Steps for implementing NLP\n",
    "#1 -Clean texts to prepare them for the Machine Learning models,\n",
    "#2-Create a Bag of Words model,\n",
    "#3-Apply Machine Learning models onto this Bag of Worlds model."
   ]
  },
  {
   "cell_type": "code",
   "execution_count": 69,
   "metadata": {},
   "outputs": [],
   "source": [
    "\n",
    "#Importing the libraries\n",
    "import numpy as np\n",
    "import pandas as pd\n",
    "import matplotlib.pyplot as plt\n",
    "\n",
    "#importing the dataset\n",
    "dataset = pd.read_csv('Restaurant_Reviews.tsv',delimiter ='\\t',quoting = 3)\n",
    "#Here we are using tsv file (tab separated values) not csv(comma separated values)\n",
    "#This is done as the text itself might contain commas and python would not be able to differentiate between values .\n",
    "#delimiter is used to specify the sue of tab and code quoting =3 is used to ignore the\"\"\n"
   ]
  },
  {
   "cell_type": "code",
   "execution_count": 70,
   "metadata": {},
   "outputs": [],
   "source": [
    "#STEP 1- Cleaning the texts\n",
    "#We remove words like 'the', 'is' ,'a'etc and we also perform stemming(extracting the root of the word eg. loved stemmed from love)\n",
    "import re\n",
    "#review is the new cleaned version\n",
    "import nltk\n",
    "from nltk.corpus import stopwords\n",
    "from nltk.stem.porter import PorterStemmer\n",
    "#We need to convert the review which is a string to a list to remove irrelevent words efficiently\n",
    "# without stemming review = [word for word in review if not word in set(stopwords.words('english'))]\n",
    "#we are looking at every word in the list and removing the one which are in english and a part of the stopwords package \n",
    "#we are using set here as it is faster to access elements in a set than in a list\n",
    "\n",
    "corpus = []\n",
    "for i in range(0,1000):\n",
    "    review = re.sub('[^a-zA-Z]',' ',dataset['Review'][i])\n",
    "    #we have to remove '...' ,so we instead tell sub to keep words from a-zA-Z\n",
    "    #This is performed on the first 'Review' of the dataset which is accessed by dataset['Review'][0]\n",
    "    review = review.lower() \n",
    "    #conversion of all alphabets to lower case\n",
    "    review  = review.split()\n",
    "    ps = PorterStemmer()\n",
    "    # without stemming ,review = [word for word in review if not word in set(stopwords.words('english'))]\n",
    "    review = [ps.stem(word) for word in review if not word in set(stopwords.words('english'))]\n",
    "    #we now join all the words in the review together \n",
    "    review = ' '.join(review)\n",
    "    corpus.append(review)"
   ]
  },
  {
   "cell_type": "code",
   "execution_count": 75,
   "metadata": {},
   "outputs": [],
   "source": [
    "corpus = []\n",
    "for i in range (0,1000):\n",
    "    review = re.sub('[^a-zA-Z]',' ',dataset['Review'][i])\n",
    "    #we have to remove '...' ,so we instead tell sub to keep words from a-zA-Z\n",
    "    #This is performed on the first 'Review' of the dataset which is accessed by dataset['Review'][0]\n",
    "    review = review.lower() \n",
    "    #conversion of all alphabets to lower case\n",
    "    review  = review.split()\n",
    "    ps = PorterStemmer()\n",
    "    # without stemming ,review = [word for word in review if not word in set(stopwords.words('english'))]\n",
    "    review = [ps.stem(word) for word in review if not word in set(stopwords.words('english'))]\n",
    "    #we now join all the words in the review together \n",
    "    review = ' '.join(review)\n",
    "    corpus.append(review)\n"
   ]
  },
  {
   "cell_type": "code",
   "execution_count": 77,
   "metadata": {},
   "outputs": [],
   "source": [
    "#STEP 2\n",
    "#Creating Bag of Words Model\n",
    "#It is about creating the sparse matrix to reduce the no. of words(indep. var. corresponding to classification)\n",
    "#and reduce sparsity . All of this is done by tokenization(creating rows for every word)\n",
    "from sklearn.feature_extraction.text import CountVectorizer\n",
    "cv = CountVectorizer(max_features = 1500)\n",
    "#max_features is added to filter out the less frequent words\n",
    "x = cv.fit_transform(corpus).toarray()\n",
    "#x is the sparse matrix\n",
    "y = dataset.iloc[:, 1].values\n",
    "#y is dependent value vector\n",
    "#sparsity can be reduced by dimensionality reduction or by setting max_features to a lower value\n"
   ]
  },
  {
   "cell_type": "code",
   "execution_count": 78,
   "metadata": {},
   "outputs": [
    {
     "data": {
      "text/plain": [
       "array([[55, 42],\n",
       "       [12, 91]])"
      ]
     },
     "execution_count": 78,
     "metadata": {},
     "output_type": "execute_result"
    }
   ],
   "source": [
    "#STEP 3- Classification\n",
    "\n",
    "from sklearn.preprocessing import LabelEncoder,OneHotEncoder\n",
    "labelencoder_x = LabelEncoder()\n",
    "\n",
    "from sklearn.model_selection import train_test_split\n",
    "x_train,x_test,y_train,y_test= train_test_split(x,y,test_size=0.20,random_state=0)\n",
    "\n",
    "#fitting Naive Bayes to the training set\n",
    "from sklearn.naive_bayes import GaussianNB\n",
    "classifier = GaussianNB()\n",
    "classifier.fit(x_train,y_train)\n",
    "#predict the test set results\n",
    "y_pred = classifier.predict(x_test)\n",
    "y_pred\n",
    "#making the confusion matrix(correct vs incorrect predictions that our model made)\n",
    "from sklearn.metrics import confusion_matrix\n",
    "#here the confusion_matrix is a class\n",
    "cm = confusion_matrix(y_test,y_pred)\n",
    "cm"
   ]
  },
  {
   "cell_type": "code",
   "execution_count": null,
   "metadata": {},
   "outputs": [],
   "source": []
  },
  {
   "cell_type": "code",
   "execution_count": null,
   "metadata": {},
   "outputs": [],
   "source": []
  }
 ],
 "metadata": {
  "kernelspec": {
   "display_name": "Python 3",
   "language": "python",
   "name": "python3"
  },
  "language_info": {
   "codemirror_mode": {
    "name": "ipython",
    "version": 3
   },
   "file_extension": ".py",
   "mimetype": "text/x-python",
   "name": "python",
   "nbconvert_exporter": "python",
   "pygments_lexer": "ipython3",
   "version": "3.6.3"
  }
 },
 "nbformat": 4,
 "nbformat_minor": 2
}
